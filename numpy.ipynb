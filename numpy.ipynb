{
  "nbformat": 4,
  "nbformat_minor": 0,
  "metadata": {
    "colab": {
      "provenance": [],
      "authorship_tag": "ABX9TyM3Ko23MJF/nh7peCjRToKg",
      "include_colab_link": true
    },
    "kernelspec": {
      "name": "python3",
      "display_name": "Python 3"
    },
    "language_info": {
      "name": "python"
    }
  },
  "cells": [
    {
      "cell_type": "markdown",
      "metadata": {
        "id": "view-in-github",
        "colab_type": "text"
      },
      "source": [
        "<a href=\"https://colab.research.google.com/github/nayelimolar/unidad1/blob/main/numpy.ipynb\" target=\"_parent\"><img src=\"https://colab.research.google.com/assets/colab-badge.svg\" alt=\"Open In Colab\"/></a>"
      ]
    },
    {
      "cell_type": "code",
      "execution_count": null,
      "metadata": {
        "id": "L_TgyrLCiSm3"
      },
      "outputs": [],
      "source": []
    },
    {
      "cell_type": "markdown",
      "source": [
        "NumPy es una libreria de Python.\n",
        "NumPy se utiliza para trabajar con matrices o arreglo\n",
        "NumPy es la abrebiatura de \"Python numerico\"\n",
        "Tambien tiene funciones para trabajar en el dominio del algebra lineal, la transformada y las matrices\n",
        "En Python tenemos listas que sirven como matrices pero son lentas de procesar.\n",
        "NumPy tiene como objetivo proporcionar un objeto de matriz que sea 50 veces mas rapido que las lisas tradicionales.\n"
      ],
      "metadata": {
        "id": "6bR1p4dui29X"
      }
    },
    {
      "cell_type": "code",
      "source": [
        "#Primero tenemos que importar la libreria\n",
        "import numpy\n",
        "\n",
        "arreglo=numpy.array([1,2,3,4,5])\n",
        "print(arreglo)\n"
      ],
      "metadata": {
        "colab": {
          "base_uri": "https://localhost:8080/"
        },
        "id": "MKLWC8-gl9Ou",
        "outputId": "50c4e8de-bd71-4617-8404-73714e42e3fb"
      },
      "execution_count": 2,
      "outputs": [
        {
          "output_type": "stream",
          "name": "stdout",
          "text": [
            "[1 2 3 4 5]\n"
          ]
        }
      ]
    },
    {
      "cell_type": "markdown",
      "source": [
        "NumPy como np\n",
        "NumPy generalmente es importa bajo el aliasnp. En Python los alias son un nombre alternativo para referirse a la misma cosa"
      ],
      "metadata": {
        "id": "V6cf10blmV8e"
      }
    },
    {
      "cell_type": "code",
      "source": [
        "import numpy as np\n",
        "\n",
        "arreglo=np.array([6,7,8,9,10])\n",
        "print(arreglo)"
      ],
      "metadata": {
        "colab": {
          "base_uri": "https://localhost:8080/"
        },
        "id": "j-Zf9Hzwmrt-",
        "outputId": "a41ba563-8fd5-4b1e-cecb-7afae8a904d8"
      },
      "execution_count": 3,
      "outputs": [
        {
          "output_type": "stream",
          "name": "stdout",
          "text": [
            "[ 6  7  8  9 10]\n"
          ]
        }
      ]
    },
    {
      "cell_type": "markdown",
      "source": [
        "Comprobando la version de NumPy\n",
        "La cadebna de la version de almacena en el atributo__version__"
      ],
      "metadata": {
        "id": "wKTRawH1naZe"
      }
    },
    {
      "cell_type": "code",
      "source": [
        "import numpy as np\n",
        "\n",
        "print(np.__version__)"
      ],
      "metadata": {
        "colab": {
          "base_uri": "https://localhost:8080/"
        },
        "id": "IpBOkbgDn07_",
        "outputId": "4b87a1d0-19e9-40fb-cee1-2d74ab3e01ce"
      },
      "execution_count": 4,
      "outputs": [
        {
          "output_type": "stream",
          "name": "stdout",
          "text": [
            "2.0.2\n"
          ]
        }
      ]
    },
    {
      "cell_type": "markdown",
      "source": [
        "NumPy creando matrices\n",
        "Crear un objetondarray de NumPy\n",
        "NumPy se utiliza para trabajar con matrices. El objeto de matriz se llama ndarray.\n",
        "Podemos crear un NumPy ndarray utilizando la funcion array()"
      ],
      "metadata": {
        "id": "-S77tCpWoPJn"
      }
    },
    {
      "cell_type": "code",
      "source": [
        "import numpy as np\n",
        "\n",
        "arreglo=np.array([\"raul\", \"ana\", \"kimberly\", \"yazmin\"])\n",
        "print(arreglo)\n",
        "print(type(arreglo))"
      ],
      "metadata": {
        "colab": {
          "base_uri": "https://localhost:8080/"
        },
        "id": "k9L0-KkPpKa4",
        "outputId": "35ff852e-329a-4453-f97a-5b6bc6e28990"
      },
      "execution_count": 5,
      "outputs": [
        {
          "output_type": "stream",
          "name": "stdout",
          "text": [
            "['raul' 'ana' 'kimberly' 'yazmin']\n",
            "<class 'numpy.ndarray'>\n"
          ]
        }
      ]
    },
    {
      "cell_type": "markdown",
      "source": [
        "Dimensiones en matrices\n",
        "Una dimension en matrices es un nivel de profundidad de matriz (matrices anidadas)\n",
        "Una matriz anidada contiene matrices como alementos\n",
        "Matrices 0-D. Son elemtos de una matriz. Cada valor de una matriz es una matriz 0-D. Ejemplo:Crea una matriz 0-D con un valor de 42"
      ],
      "metadata": {
        "id": "kO1pff27qGGX"
      }
    },
    {
      "cell_type": "code",
      "source": [
        "import numpy as np\n",
        "\n",
        "arreglo=np.array(42)\n",
        "\n",
        "print(arreglo)"
      ],
      "metadata": {
        "colab": {
          "base_uri": "https://localhost:8080/"
        },
        "id": "n8pPlBeZrEr3",
        "outputId": "db994f3e-35a3-4afb-8ae2-40d2de6bda45"
      },
      "execution_count": 6,
      "outputs": [
        {
          "output_type": "stream",
          "name": "stdout",
          "text": [
            "42\n"
          ]
        }
      ]
    },
    {
      "cell_type": "markdown",
      "source": [
        "Matrices 1-D que tiene matriices como 0-D como elementos se denomina matriz unidimensional o 1-D.\n",
        "Estas son las matrices mas comunes y basicas.\n",
        "Ejemplo: Crea una matrices de una dimension que tenga los valores 1,2,3,4,5"
      ],
      "metadata": {
        "id": "3FytnHd7sWrf"
      }
    },
    {
      "cell_type": "code",
      "source": [
        "import  numpy as np\n",
        "\n",
        "arreglo=np.array([1,2,3,4,5])\n",
        "\n",
        "print(arreglo)"
      ],
      "metadata": {
        "colab": {
          "base_uri": "https://localhost:8080/"
        },
        "id": "LYkszvIVtNoA",
        "outputId": "908f7a33-e7a3-43d0-d1e4-99208b088065"
      },
      "execution_count": 8,
      "outputs": [
        {
          "output_type": "stream",
          "name": "stdout",
          "text": [
            "[1 2 3 4 5]\n"
          ]
        }
      ]
    },
    {
      "cell_type": "markdown",
      "source": [
        "Matrices 2D\n",
        "Una matriz que tiene matrices 1-D como elementos se denomina matriz 2-D.\n",
        "A menudo se utiliza para representar matrices de sgundo orden. NumPy tiene un submodulo completo dedecado a operaciones como matrices llamado numpy.\n",
        "mat.\n",
        "Ejemplo:crea una matriz 2D que contenga dos matrices con los valores 123 y 456"
      ],
      "metadata": {
        "id": "1nW50TLitwIv"
      }
    },
    {
      "cell_type": "code",
      "source": [
        "import numpy as np\n",
        "\n",
        "arreglo=np.array([[1,2,3],[4,5,6]])\n",
        "\n",
        "print(arreglo)"
      ],
      "metadata": {
        "colab": {
          "base_uri": "https://localhost:8080/"
        },
        "id": "uRFPcqK8up3P",
        "outputId": "3a2f849e-afc6-4dba-8ea4-b485055e3c98"
      },
      "execution_count": 9,
      "outputs": [
        {
          "output_type": "stream",
          "name": "stdout",
          "text": [
            "[[1 2 3]\n",
            " [4 5 6]]\n"
          ]
        }
      ]
    },
    {
      "cell_type": "markdown",
      "source": [
        "Matrices 3D\n",
        "Una matriz que tiene matrices 2D se denomina matriz 3D.\n",
        "Estas matrices se utilizan para representar una matriz de tercer orden.\n",
        "Ejemplo:crea una mtiz 3D con 2 mnatrices bidimensionales, ambas conteniendo dos matrices con los valores 1,2,3 y 4,5,6."
      ],
      "metadata": {
        "id": "asmcmtLDvURv"
      }
    },
    {
      "cell_type": "code",
      "source": [
        "import numpy as np\n",
        "\n",
        "arreglo=np.array([[[1,2,3],[4,5,6]],[[1,2,3],[4,5,6]]])\n",
        "\n",
        "print(arreglo)"
      ],
      "metadata": {
        "colab": {
          "base_uri": "https://localhost:8080/"
        },
        "id": "n5AkgtUSwKuX",
        "outputId": "947231ed-7bae-4d0a-d7b0-654c1456e966"
      },
      "execution_count": 10,
      "outputs": [
        {
          "output_type": "stream",
          "name": "stdout",
          "text": [
            "[[[1 2 3]\n",
            "  [4 5 6]]\n",
            "\n",
            " [[1 2 3]\n",
            "  [4 5 6]]]\n"
          ]
        }
      ]
    }
  ]
}