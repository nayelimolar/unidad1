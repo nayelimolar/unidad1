{
  "nbformat": 4,
  "nbformat_minor": 0,
  "metadata": {
    "colab": {
      "provenance": [],
      "authorship_tag": "ABX9TyM39GyJe3mXhe+o+xfWEiNC",
      "include_colab_link": true
    },
    "kernelspec": {
      "name": "python3",
      "display_name": "Python 3"
    },
    "language_info": {
      "name": "python"
    }
  },
  "cells": [
    {
      "cell_type": "markdown",
      "metadata": {
        "id": "view-in-github",
        "colab_type": "text"
      },
      "source": [
        "<a href=\"https://colab.research.google.com/github/nayelimolar/unidad1/blob/main/Practica_6.ipynb\" target=\"_parent\"><img src=\"https://colab.research.google.com/assets/colab-badge.svg\" alt=\"Open In Colab\"/></a>"
      ]
    },
    {
      "cell_type": "code",
      "execution_count": null,
      "metadata": {
        "id": "BVEQQxUqCqWk"
      },
      "outputs": [],
      "source": []
    },
    {
      "cell_type": "markdown",
      "source": [
        "Nayeli molar gutierrez-24 de septiembre de 2025\n",
        "Practica 6- Cortar Arreglos Numpy\n",
        "----------------------------------------------\n",
        "Slice en Python significa tomar elementos de un indice determinado a otro determinado indice.\n",
        "\n",
        "pasamos Slice en lugar del indice de esta manera: [star:end]\n",
        "Sino pasamos el inicio se considera 0\n",
        "Sino pasamos el final, su longiitud es considerada una matriz de una dimension\n",
        "-----------------------------------------------\n",
        "Ejemplo:([1,2,3,4,5,6,7])\n",
        "Cortar los elementos del indice 1 al indice 5\n",
        "--------------------------------------"
      ],
      "metadata": {
        "id": "kV4jl4d_CraM"
      }
    },
    {
      "cell_type": "code",
      "source": [
        "import numpy as np\n",
        "arreglo=np.array([1,2,3,4,5,6,6])\n",
        "\n",
        "print(arreglo[1:5])"
      ],
      "metadata": {
        "colab": {
          "base_uri": "https://localhost:8080/"
        },
        "id": "0wvjZBUvKZrc",
        "outputId": "4ff66685-f7fd-4110-e944-f5211eedf3b5"
      },
      "execution_count": 1,
      "outputs": [
        {
          "output_type": "stream",
          "name": "stdout",
          "text": [
            "[2 3 4 5]\n"
          ]
        }
      ]
    },
    {
      "cell_type": "markdown",
      "source": [
        "Ejemplo 2:\n",
        "([1,2,3,4,5,6,7])\n",
        "Cortar del indice 4 hasta el final de la matriz\n",
        "-----------------------------------\n"
      ],
      "metadata": {
        "id": "aYHcREzvLKh1"
      }
    },
    {
      "cell_type": "code",
      "source": [
        "import numpy as np\n",
        "arreglo=np.array([1,2,3,4,5,6,7])\n",
        "\n",
        "print(arreglo[4:])"
      ],
      "metadata": {
        "colab": {
          "base_uri": "https://localhost:8080/"
        },
        "id": "0T3dC_i9LdUv",
        "outputId": "e78c83e3-84ee-4ac7-85d9-ed2abc07fca1"
      },
      "execution_count": 2,
      "outputs": [
        {
          "output_type": "stream",
          "name": "stdout",
          "text": [
            "[5 6 7]\n"
          ]
        }
      ]
    },
    {
      "cell_type": "markdown",
      "source": [
        "Ejemplo 3:\n",
        "([1,2,3,4,5,6,7])\n",
        "Cortar elementos desde el principio hasta el indice 5"
      ],
      "metadata": {
        "id": "br59R-NnMIAB"
      }
    },
    {
      "cell_type": "code",
      "source": [
        "import numpy as np\n",
        "arreglo=np.array([1,2,3,4,5,6,7])\n",
        "print(arreglo[:5])"
      ],
      "metadata": {
        "colab": {
          "base_uri": "https://localhost:8080/"
        },
        "id": "pv3gI4OLMWSz",
        "outputId": "ccf3a335-4f03-44fb-b6c9-0acbe3c0dba9"
      },
      "execution_count": 3,
      "outputs": [
        {
          "output_type": "stream",
          "name": "stdout",
          "text": [
            "[1 2 3 4 5]\n"
          ]
        }
      ]
    },
    {
      "cell_type": "markdown",
      "source": [
        "Ejemplo 4:\n",
        "([1,2,3,4,5,6,7])\n",
        "Corte negativo. Utilizamos el operador \"menos\" para hacer referencia a un indice desde el final.\n",
        "--------------------------\n",
        "Cortar del indice 3 desde el final al indice 1 desde el final"
      ],
      "metadata": {
        "id": "RbVRxpNYM2x0"
      }
    },
    {
      "cell_type": "code",
      "source": [
        "import numpy as np\n",
        "arreglo=np.array([1,2,3,4,5,6,7])\n",
        "\n",
        "print(arreglo[-3: -1])"
      ],
      "metadata": {
        "colab": {
          "base_uri": "https://localhost:8080/"
        },
        "id": "tLJjjUQuNckQ",
        "outputId": "d9e1310f-79d5-4c63-f5f4-305cc46a0c1c"
      },
      "execution_count": 4,
      "outputs": [
        {
          "output_type": "stream",
          "name": "stdout",
          "text": [
            "[5 6]\n"
          ]
        }
      ]
    }
  ]
}