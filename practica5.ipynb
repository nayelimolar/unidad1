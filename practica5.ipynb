{
  "nbformat": 4,
  "nbformat_minor": 0,
  "metadata": {
    "colab": {
      "provenance": [],
      "authorship_tag": "ABX9TyN+sd8HU/BA9tca5nLfUrvZ",
      "include_colab_link": true
    },
    "kernelspec": {
      "name": "python3",
      "display_name": "Python 3"
    },
    "language_info": {
      "name": "python"
    }
  },
  "cells": [
    {
      "cell_type": "markdown",
      "metadata": {
        "id": "view-in-github",
        "colab_type": "text"
      },
      "source": [
        "<a href=\"https://colab.research.google.com/github/nayelimolar/unidad1/blob/main/practica5.ipynb\" target=\"_parent\"><img src=\"https://colab.research.google.com/assets/colab-badge.svg\" alt=\"Open In Colab\"/></a>"
      ]
    },
    {
      "cell_type": "code",
      "execution_count": 4,
      "metadata": {
        "colab": {
          "base_uri": "https://localhost:8080/"
        },
        "id": "lM94JphW0jgc",
        "outputId": "805dfe4a-cb09-43c9-ebf9-afaa85a3982d"
      },
      "outputs": [
        {
          "output_type": "stream",
          "name": "stdout",
          "text": [
            "La media es: 39.125\n",
            "La mediana es: 39.5\n"
          ]
        }
      ],
      "source": [
        "import numpy as np\n",
        "\n",
        "valores=np.array([23,45,56,12,67,34,55,21])\n",
        "media=np.mean(valores)\n",
        "mediana=np.median(valores)\n",
        "\n",
        "print(\"La media es:\", media)\n",
        "print(\"La mediana es:\", mediana)"
      ]
    },
    {
      "cell_type": "code",
      "metadata": {
        "id": "92d5ed44"
      },
      "source": [
        "from scipy import stats\n",
        "import numpy as np\n",
        "\n",
        "valores = np.array([23, 45, 56, 12, 67, 34, 55, 21])\n",
        "moda = stats.mode(valores)\n",
        "\n",
        "print(\"La moda es:\", moda.mode)"
      ],
      "execution_count": null,
      "outputs": []
    },
    {
      "cell_type": "markdown",
      "source": [
        "Media, mediana y moda de la siguiente lista:[10, 20, 30, 40, 20, 50, 20]"
      ],
      "metadata": {
        "id": "ndlzsrXM6ziE"
      }
    },
    {
      "cell_type": "code",
      "source": [
        "import numpy as np\n",
        "from scipy import stats\n",
        "\n",
        "nueva_lista = np.array([10, 20, 30, 40, 20, 50, 20])\n",
        "\n",
        "media_nueva = np.mean(nueva_lista)\n",
        "mediana_nueva = np.median(nueva_lista)\n",
        "moda_nueva = stats.mode(nueva_lista)\n",
        "\n",
        "print(\"La media es:\", media_nueva)\n",
        "print(\"La mediana es:\", mediana_nueva)\n",
        "print(\"La moda es:\", moda_nueva.mode)"
      ],
      "metadata": {
        "colab": {
          "base_uri": "https://localhost:8080/"
        },
        "id": "gaUWz4C86ZUk",
        "outputId": "89b01012-1af4-4b0a-fbca-cfca28eb0da0"
      },
      "execution_count": 15,
      "outputs": [
        {
          "output_type": "stream",
          "name": "stdout",
          "text": [
            "La media es: 27.142857142857142\n",
            "La mediana es: 20.0\n",
            "La moda es: 20\n"
          ]
        }
      ]
    },
    {
      "cell_type": "markdown",
      "source": [
        "Media, mediana y moda de la siguiente lista:[10, 20, 30, 40, 50]\n",
        "\n",
        "\n",
        "\n"
      ],
      "metadata": {
        "id": "3dk0Ubwx66B1"
      }
    },
    {
      "cell_type": "code",
      "source": [
        "import numpy as np\n",
        "from scipy import stats\n",
        "\n",
        "otra_lista = np.array([10, 20, 30, 40, 50])\n",
        "\n",
        "media_otra = np.mean(otra_lista)\n",
        "mediana_otra = np.median(otra_lista)\n",
        "moda_otra = stats.mode(otra_lista)\n",
        "\n",
        "print(\"La media es:\", media_otra)\n",
        "print(\"La mediana es:\", mediana_otra)\n",
        "print(\"La moda es:\", moda_otra.mode)"
      ],
      "metadata": {
        "colab": {
          "base_uri": "https://localhost:8080/"
        },
        "id": "8mIVFHRC7D6d",
        "outputId": "5bd37280-8b51-44e8-a62c-b51f3e7e71e0"
      },
      "execution_count": 17,
      "outputs": [
        {
          "output_type": "stream",
          "name": "stdout",
          "text": [
            "La media es: 30.0\n",
            "La mediana es: 30.0\n",
            "La moda es: 10\n"
          ]
        }
      ]
    }
  ]
}