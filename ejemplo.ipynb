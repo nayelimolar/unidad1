{
  "nbformat": 4,
  "nbformat_minor": 0,
  "metadata": {
    "colab": {
      "provenance": [],
      "authorship_tag": "ABX9TyOdrFtGsE986NtK0wTvrD6q",
      "include_colab_link": true
    },
    "kernelspec": {
      "name": "python3",
      "display_name": "Python 3"
    },
    "language_info": {
      "name": "python"
    }
  },
  "cells": [
    {
      "cell_type": "markdown",
      "metadata": {
        "id": "view-in-github",
        "colab_type": "text"
      },
      "source": [
        "<a href=\"https://colab.research.google.com/github/nayelimolar/unidad1/blob/main/ejemplo.ipynb\" target=\"_parent\"><img src=\"https://colab.research.google.com/assets/colab-badge.svg\" alt=\"Open In Colab\"/></a>"
      ]
    },
    {
      "cell_type": "code",
      "execution_count": null,
      "metadata": {
        "id": "6M-Piym6wyac"
      },
      "outputs": [],
      "source": []
    },
    {
      "cell_type": "markdown",
      "source": [
        "prueba de colab Python"
      ],
      "metadata": {
        "id": "iRyCH4y3xeNI"
      }
    },
    {
      "cell_type": "code",
      "source": [
        "print(\"hola mundo\")"
      ],
      "metadata": {
        "colab": {
          "base_uri": "https://localhost:8080/"
        },
        "id": "ErsIjKj1xxit",
        "outputId": "0f64b84a-49b4-4e16-ae53-da5395d77213"
      },
      "execution_count": 1,
      "outputs": [
        {
          "output_type": "stream",
          "name": "stdout",
          "text": [
            "hola mundo\n"
          ]
        }
      ]
    },
    {
      "cell_type": "markdown",
      "source": [
        "variables"
      ],
      "metadata": {
        "id": "OrJjSaAVyVS8"
      }
    },
    {
      "cell_type": "code",
      "source": [
        "#variables en python\n",
        "nombre = \"nayeli\"\n",
        "paterno = \"molar\"\n",
        "materno = \"gutierrez\"\n",
        "edad = 18\n",
        "estatura = 1.60\n",
        "\n",
        "print(nombre,paterno,materno,edad,estatura)\n"
      ],
      "metadata": {
        "colab": {
          "base_uri": "https://localhost:8080/"
        },
        "id": "45oEFNlwyXTJ",
        "outputId": "1295abfd-2504-4ea1-b075-c87b6928c2bf"
      },
      "execution_count": 3,
      "outputs": [
        {
          "output_type": "stream",
          "name": "stdout",
          "text": [
            "nayeli molar gutierrez 18 1.6\n"
          ]
        }
      ]
    },
    {
      "cell_type": "markdown",
      "source": [
        "solicitar 2 numeros al usuario y sumarlos"
      ],
      "metadata": {
        "id": "ZO2I6sSozd9z"
      }
    },
    {
      "cell_type": "code",
      "source": [
        "numero1=int(input(\"ingresa el primer numero\"))\n",
        "numero2=int(input(\"ingresa el segundo numero\"))\n",
        "suma=numero1+numero2\n",
        "print(\"suma= \" ,suma)\n"
      ],
      "metadata": {
        "colab": {
          "base_uri": "https://localhost:8080/"
        },
        "id": "1E6ZRoqgzltE",
        "outputId": "630af7ce-cb7e-4e8e-d8e1-40a9bc6f12f2"
      },
      "execution_count": 4,
      "outputs": [
        {
          "output_type": "stream",
          "name": "stdout",
          "text": [
            "ingresa el primer numero12\n",
            "ingresa el segundo numero3\n",
            "suma=  15\n"
          ]
        }
      ]
    }
  ]
}