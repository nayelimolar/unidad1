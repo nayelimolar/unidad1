{
  "nbformat": 4,
  "nbformat_minor": 0,
  "metadata": {
    "colab": {
      "provenance": [],
      "authorship_tag": "ABX9TyNE2O0rgFjEsHdeF8x6sWP8",
      "include_colab_link": true
    },
    "kernelspec": {
      "name": "python3",
      "display_name": "Python 3"
    },
    "language_info": {
      "name": "python"
    }
  },
  "cells": [
    {
      "cell_type": "markdown",
      "metadata": {
        "id": "view-in-github",
        "colab_type": "text"
      },
      "source": [
        "<a href=\"https://colab.research.google.com/github/nayelimolar/unidad1/blob/main/Untitled0.ipynb\" target=\"_parent\"><img src=\"https://colab.research.google.com/assets/colab-badge.svg\" alt=\"Open In Colab\"/></a>"
      ]
    },
    {
      "cell_type": "code",
      "execution_count": null,
      "metadata": {
        "id": "TjbrSV00QgoP"
      },
      "outputs": [],
      "source": []
    },
    {
      "cell_type": "markdown",
      "source": [
        "Acceder a elemento de una matriz.\n",
        "la ide de matrices es lo mismo de acceder a un elemento de una matriz. Puede acceder a un elemento de una matriz haciendo referencia a su numero de indice.\n",
        "\n",
        "los indices en las matrices Numpy, comienza en 0, lo que significa que el primer elemto tiene indice 0, el segundo tiene indice 1, el tercero tiene indice 2, etc.\n",
        "Ejemplo:Obtenga el primer elemento de la siguiente matriz"
      ],
      "metadata": {
        "id": "kF2huZlHQmsb"
      }
    },
    {
      "cell_type": "code",
      "source": [
        "import numpy as np\n",
        "arreglo=np.array([1,2,3,4,5])\n",
        "print(arreglo[0])"
      ],
      "metadata": {
        "colab": {
          "base_uri": "https://localhost:8080/"
        },
        "id": "8WhoMFR0RZOq",
        "outputId": "04f735b0-2354-43d0-9a2c-3e692c4e72dc"
      },
      "execution_count": 2,
      "outputs": [
        {
          "output_type": "stream",
          "name": "stdout",
          "text": [
            "1\n"
          ]
        }
      ]
    },
    {
      "cell_type": "markdown",
      "source": [
        "de la siguiente lista 6,7,8,9,10, obtenga el tercero y cuarto elñemento"
      ],
      "metadata": {
        "id": "Th36IafjTpFq"
      }
    },
    {
      "cell_type": "code",
      "source": [
        "import numpy as np\n",
        "arreglo=np.array([6,7,8,9,10])\n",
        "print(arreglo[2])\n",
        "print(arreglo[3])"
      ],
      "metadata": {
        "colab": {
          "base_uri": "https://localhost:8080/"
        },
        "id": "SuxpENcNTwXa",
        "outputId": "bd64eb4b-4836-42e3-e3c0-7ef3602bc57c"
      },
      "execution_count": 3,
      "outputs": [
        {
          "output_type": "stream",
          "name": "stdout",
          "text": [
            "8\n",
            "9\n"
          ]
        }
      ]
    },
    {
      "cell_type": "markdown",
      "source": [
        "Acceder a matrices 2d\n",
        "Para acceder a elementos de matrices de 2d, podemos utilizar numeros enteros, separados por comas que representa al numero de dimension y al indice de elemnto piense en matrices 2d, como una tabla con filas y columnas.\n",
        "Donde la dimension reprsenta la fila y el indice representa la columna\n"
      ],
      "metadata": {
        "id": "bUQVX7ElUVUq"
      }
    },
    {
      "cell_type": "markdown",
      "source": [
        "\n",
        "Ejemplo:realiza una matriz 2d, con los siguientes arreglos .\n",
        "lista1: 1,2,3,4,5\n",
        "lista2: 6,7,8,9,10"
      ],
      "metadata": {
        "id": "CE6yvGLRVRk7"
      }
    },
    {
      "cell_type": "code",
      "source": [
        "import numpy as np\n",
        "arreglo=np.array([[1,2,3,4,5],[6,7,8,9,10]])\n",
        "print(arreglo[0,1])"
      ],
      "metadata": {
        "colab": {
          "base_uri": "https://localhost:8080/"
        },
        "id": "nxpkwxqCU-kp",
        "outputId": "8de6c8ac-acfe-468d-f8e5-fa2453de2f14"
      },
      "execution_count": 6,
      "outputs": [
        {
          "output_type": "stream",
          "name": "stdout",
          "text": [
            "2\n"
          ]
        }
      ]
    }
  ]
}