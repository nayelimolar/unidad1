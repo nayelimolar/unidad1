{
  "nbformat": 4,
  "nbformat_minor": 0,
  "metadata": {
    "colab": {
      "provenance": [],
      "authorship_tag": "ABX9TyNgDc9VHx9Kbz7Z85M9t3bv",
      "include_colab_link": true
    },
    "kernelspec": {
      "name": "python3",
      "display_name": "Python 3"
    },
    "language_info": {
      "name": "python"
    }
  },
  "cells": [
    {
      "cell_type": "markdown",
      "metadata": {
        "id": "view-in-github",
        "colab_type": "text"
      },
      "source": [
        "<a href=\"https://colab.research.google.com/github/nayelimolar/unidad1/blob/main/practica7.ipynb\" target=\"_parent\"><img src=\"https://colab.research.google.com/assets/colab-badge.svg\" alt=\"Open In Colab\"/></a>"
      ]
    },
    {
      "cell_type": "markdown",
      "source": [
        "Nayeli Molar Gutierrez- Practica 7- 25 de septiembre 2025\n",
        "---------------------------------\n",
        "Slicing Numpy\n",
        "----------\n",
        "Utiliza STEP para determinar el paso del corte:\n",
        "Ejemplo:([1,2,3,4,5,6,7])- Devuelve todos\n",
        "Los elementos del indice 1 al indice 5"
      ],
      "metadata": {
        "id": "8JWs38yoGg5Z"
      }
    },
    {
      "cell_type": "code",
      "source": [
        "import numpy as np\n",
        "\n",
        "arreglo=np.array([1,2,3,4,5,6,7])\n",
        "print(arreglo[1:5:2])"
      ],
      "metadata": {
        "colab": {
          "base_uri": "https://localhost:8080/"
        },
        "id": "AEf1LH_rJXrg",
        "outputId": "736a0340-6598-4494-c07b-3973a5e0851b"
      },
      "execution_count": 5,
      "outputs": [
        {
          "output_type": "stream",
          "name": "stdout",
          "text": [
            "[2 4]\n"
          ]
        }
      ]
    },
    {
      "cell_type": "markdown",
      "source": [
        "Ejemplo2: ([1,2,3,4,5,6,7])\n",
        "devuelve los elementos de la matriz"
      ],
      "metadata": {
        "id": "r6fqyROgI4Jw"
      }
    },
    {
      "cell_type": "code",
      "source": [
        "import numpy as np\n",
        "arreglo=np.array([1,2,3,4,5,6,7])\n",
        "print(arreglo[::2])"
      ],
      "metadata": {
        "colab": {
          "base_uri": "https://localhost:8080/"
        },
        "id": "Rv3ZqFoJJIJA",
        "outputId": "2bee532d-a3aa-48cf-c173-e99ab4f6539a"
      },
      "execution_count": 4,
      "outputs": [
        {
          "output_type": "stream",
          "name": "stdout",
          "text": [
            "[1 3 5 7]\n"
          ]
        }
      ]
    },
    {
      "cell_type": "markdown",
      "source": [
        "Slice de matrices 2D\n",
        "-------------------------\n",
        "Ejemplo3:([[1,2,3,4,5],[6,7,8,9,19])\n",
        "Del segundo elemento, corte del indice 1 al inidce 4"
      ],
      "metadata": {
        "id": "OIg6vqdxJuoo"
      }
    },
    {
      "cell_type": "code",
      "source": [
        "import numpy as np\n",
        "arreglo=np.array([[1,2,3,4,5],[6,7,8,9,10]])\n",
        "print(arreglo[1, 1:4])\n"
      ],
      "metadata": {
        "colab": {
          "base_uri": "https://localhost:8080/"
        },
        "id": "eYo3nNwrLe4Q",
        "outputId": "b1688e95-8026-4122-b394-b5088ed879fb"
      },
      "execution_count": 8,
      "outputs": [
        {
          "output_type": "stream",
          "name": "stdout",
          "text": [
            "[7 8 9]\n"
          ]
        }
      ]
    },
    {
      "cell_type": "markdown",
      "source": [
        "Ejemplo 4: ([[1,2,3,4,5],[6,7,8,9,10]])\n",
        "De ambos elementos, devuelva el inice 1\n",
        "---------------------------------------\n"
      ],
      "metadata": {
        "id": "2LoY4RAYNJ-_"
      }
    },
    {
      "cell_type": "code",
      "source": [
        "import numpy as np\n",
        "arreglo=np.array([[1,2,3,4,5],[6,7,8,9,10]])\n",
        "print(arreglo[0:2, 2])"
      ],
      "metadata": {
        "colab": {
          "base_uri": "https://localhost:8080/"
        },
        "id": "5tAih31BNeDn",
        "outputId": "de9181fc-cbf1-4a32-a176-c4d4ce1ef76e"
      },
      "execution_count": 9,
      "outputs": [
        {
          "output_type": "stream",
          "name": "stdout",
          "text": [
            "[3 8]\n"
          ]
        }
      ]
    },
    {
      "cell_type": "markdown",
      "source": [
        "Ejemplo 5: ([[1,2,3,4,5],[6,7,8,9,10])\n",
        "De ambos elementos corta el indice 1 al indice 4\n",
        "-----------------------------------------"
      ],
      "metadata": {
        "id": "h1qa_IzxOENW"
      }
    },
    {
      "cell_type": "code",
      "source": [
        "import numpy as np\n",
        "arreglo=np.array([[1,2,3,4,5],[6,7,8,9,10]])\n",
        "print(arreglo[0:2, 1:4])"
      ],
      "metadata": {
        "colab": {
          "base_uri": "https://localhost:8080/"
        },
        "id": "Q0_iu_BQOcIW",
        "outputId": "132f37e5-1844-4368-9ff2-0f8d16858abd"
      },
      "execution_count": 12,
      "outputs": [
        {
          "output_type": "stream",
          "name": "stdout",
          "text": [
            "[[2 3 4]\n",
            " [7 8 9]]\n"
          ]
        }
      ]
    },
    {
      "cell_type": "markdown",
      "source": [
        "Ejercicio1- Autonomo\n",
        "Del siguiente arreglo , ¿cual es el resultado?\n",
        "([1,2,3,4,5,6,7])\n",
        "corta del 1er elemento al 6to elemento con paso 2"
      ],
      "metadata": {
        "id": "eLlQzxzSPMwe"
      }
    },
    {
      "cell_type": "code",
      "source": [
        "import numpy as np\n",
        "arreglo=np.array([1,2,3,4,5,6,7])\n",
        "print(arreglo[0:6:2])"
      ],
      "metadata": {
        "colab": {
          "base_uri": "https://localhost:8080/"
        },
        "id": "8FrduDRTP2SG",
        "outputId": "3087f1b6-94f1-41eb-84c6-86afaf5d4767"
      },
      "execution_count": 17,
      "outputs": [
        {
          "output_type": "stream",
          "name": "stdout",
          "text": [
            "[1 3 5]\n"
          ]
        }
      ]
    }
  ]
}