{
  "nbformat": 4,
  "nbformat_minor": 0,
  "metadata": {
    "colab": {
      "provenance": [],
      "authorship_tag": "ABX9TyN4gma7DxrCFZjEx+IeGksD",
      "include_colab_link": true
    },
    "kernelspec": {
      "name": "python3",
      "display_name": "Python 3"
    },
    "language_info": {
      "name": "python"
    }
  },
  "cells": [
    {
      "cell_type": "markdown",
      "metadata": {
        "id": "view-in-github",
        "colab_type": "text"
      },
      "source": [
        "<a href=\"https://colab.research.google.com/github/nayelimolar/unidad1/blob/main/practica2.ipynb\" target=\"_parent\"><img src=\"https://colab.research.google.com/assets/colab-badge.svg\" alt=\"Open In Colab\"/></a>"
      ]
    },
    {
      "cell_type": "code",
      "execution_count": null,
      "metadata": {
        "id": "rFxwUctQqheC"
      },
      "outputs": [],
      "source": []
    },
    {
      "cell_type": "markdown",
      "source": [
        "Practica 2 - NumPy\n",
        "Nayeli Molar Gutierrez\n",
        "Fecha:09 DE SEPTIEMBRE DE 2025\n",
        "-----------------------------\n",
        "Como verificar el numero de dimensiones.\n",
        "NumPy proporciona el atributo ndim que devuelve un numero entero que nos dice cuantas dimensiones tiene una matriz.\n",
        "------------------------------\n",
        "Ejemnplo: comprueba de cuuantas dimensiones son las siguinetes matrices.\n",
        "------------------------------\n"
      ],
      "metadata": {
        "id": "3V6GR5tArPma"
      }
    },
    {
      "cell_type": "code",
      "source": [
        "import numpy as np\n",
        "\n",
        "arregloA=np.array(42)\n",
        "arregloB=np.array([1,2,3,4,5])\n",
        "arregloC=np.array([[1,2,3],[4,5,6]])\n",
        "arregloD=np.array([[[1,2,3],[4,5,6]],[[1,2,3],[4,5,6]]])\n",
        "\n",
        "print(arregloA.ndim)\n",
        "print(arregloB.ndim)\n",
        "print(arregloC.ndim)\n",
        "print(arregloD.ndim)"
      ],
      "metadata": {
        "colab": {
          "base_uri": "https://localhost:8080/"
        },
        "id": "Qwesiuvuse95",
        "outputId": "9e05c5a4-bef4-47dc-b586-c33f4757893e"
      },
      "execution_count": 4,
      "outputs": [
        {
          "output_type": "stream",
          "name": "stdout",
          "text": [
            "0\n",
            "1\n",
            "2\n",
            "3\n"
          ]
        }
      ]
    },
    {
      "cell_type": "markdown",
      "source": [
        "Matrices de dimensiones superiores\n",
        "Una matriz puede tener cualquier numero de dimensiones. Cuando se crea la matriz, puede definir el numero de dimensiones utilizando el arrgumento ndmin.\n",
        "Ejemplo: Crea una matriz con 5 dimensiones y verifica que tenga las 5 dimensiones.\n",
        "----------------------------\n"
      ],
      "metadata": {
        "id": "ebSPMd66u20g"
      }
    },
    {
      "cell_type": "code",
      "source": [
        "import numpy as np\n",
        "\n",
        "arreglo=np.array([1,2,3,4,5], ndmin=5)\n",
        "\n",
        "print(arreglo)\n",
        "\n",
        "print(\"numero de dimensiones: \", arreglo.ndim)"
      ],
      "metadata": {
        "colab": {
          "base_uri": "https://localhost:8080/"
        },
        "id": "HmHGKpVwwF4w",
        "outputId": "1b1da097-8ea2-4d06-e1f5-73aeafdc7456"
      },
      "execution_count": 10,
      "outputs": [
        {
          "output_type": "stream",
          "name": "stdout",
          "text": [
            "[[[[[1 2 3 4 5]]]]]\n",
            "numero de dimensiones:  5\n"
          ]
        }
      ]
    },
    {
      "cell_type": "markdown",
      "source": [
        "Ejercicio:\n",
        "Considerandon la siguiente matriz\n",
        "\n",
        "arreglo=np.array([[1,2,3],[4,5,6]])\n",
        "\n",
        "¿Cuantas dimensiones tiene?\n",
        "Respuesta=2"
      ],
      "metadata": {
        "id": "Dn0TDvk7ycxf"
      }
    },
    {
      "cell_type": "markdown",
      "source": [
        "Numpy Indexacion de matrices\n",
        "Acceder a elementos de una matriz\n",
        "La indexacion de matrices es lo mismo que acceder a un elemento de una matriz. Puede acceder a un elemnto de la matriz haciendo referencia a su numero de indice. Los indices en las matrices NumPy comienza en 0, lo que significa que el primer elemento tiene el indice 0 y el segundo tiene el indice1, etc.\n",
        "Ejemplo: Obtenga el primer elemento de la siguiente matriz.\n",
        "--------------------------------------------------"
      ],
      "metadata": {
        "id": "m2o6m4sNzR6-"
      }
    },
    {
      "cell_type": "code",
      "source": [
        "import numpy as np\n",
        "\n",
        "arreglo=np.array([1,2,3,4])\n",
        "\n",
        "print(arreglo[0])"
      ],
      "metadata": {
        "colab": {
          "base_uri": "https://localhost:8080/"
        },
        "id": "hh8pNVbl0_ZF",
        "outputId": "db33096c-3ea1-43cf-8d4c-30752431686f"
      },
      "execution_count": 11,
      "outputs": [
        {
          "output_type": "stream",
          "name": "stdout",
          "text": [
            "1\n"
          ]
        }
      ]
    }
  ]
}