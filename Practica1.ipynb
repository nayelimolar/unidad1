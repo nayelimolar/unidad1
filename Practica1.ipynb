{
  "nbformat": 4,
  "nbformat_minor": 0,
  "metadata": {
    "colab": {
      "provenance": [],
      "authorship_tag": "ABX9TyORcE9prSIyAoLeCgOOTIPa",
      "include_colab_link": true
    },
    "kernelspec": {
      "name": "python3",
      "display_name": "Python 3"
    },
    "language_info": {
      "name": "python"
    }
  },
  "cells": [
    {
      "cell_type": "markdown",
      "metadata": {
        "id": "view-in-github",
        "colab_type": "text"
      },
      "source": [
        "<a href=\"https://colab.research.google.com/github/nayelimolar/unidad1/blob/main/Practica1.ipynb\" target=\"_parent\"><img src=\"https://colab.research.google.com/assets/colab-badge.svg\" alt=\"Open In Colab\"/></a>"
      ]
    },
    {
      "cell_type": "markdown",
      "source": [
        "Que es pandas en biblioteca?\n",
        "Pandas es una biblioteca de Python para la manipulación y análisis de datos, proporcionando estructuras de datos eficientes como los DataFrames (tablas bidimensionales) y Series (listas unidimensionales) para manejar datos tabulares de manera intuitiva"
      ],
      "metadata": {
        "id": "TwsvPK4GTPzr"
      }
    },
    {
      "cell_type": "markdown",
      "source": [
        "Porque Utilizar Pandas?\n",
        "Se usa Pandas en Python para manipular, limpiar y analizar datos de manera eficiente, ya que proporciona estructuras de datos flexibles como los DataFrames y Series, una API intuitiva y la capacidad de integrarse con otras bibliotecas de análisis y visualización de datos"
      ],
      "metadata": {
        "id": "JdUruhWnUYAM"
      }
    },
    {
      "cell_type": "markdown",
      "source": [
        "Que podemos hacer con pandas?\n",
        "manipular y analizar datos tabulares para obtener información"
      ],
      "metadata": {
        "id": "XCTNJPCnU3Hb"
      }
    },
    {
      "cell_type": "markdown",
      "source": [
        "**Instalacion de pandas**\n",
        "Para instalar Pandas, abre tu terminal o símbolo del sistema y ejecuta el comando pip install pandas. También puedes hacerlo usando conda install pandas si utilizas Anaconda o creas un entorno virtual con pip install virtualenv y luego pip install pandas.\n"
      ],
      "metadata": {
        "id": "xjdB2dxrVCfT"
      }
    },
    {
      "cell_type": "markdown",
      "source": [],
      "metadata": {
        "id": "660bv7pHWCH1"
      }
    },
    {
      "cell_type": "markdown",
      "source": [
        "Importar Pandas\n",
        "Una vez instalado pandas importaloa tus aplicacionesagregando la palabra clave import pandas\n",
        "Ejemplo import pandasas pd\n",
        "Ahora el paquete pandas puede denominarse Pd en vez de pandas"
      ],
      "metadata": {
        "id": "CrP88PzHVe7z"
      }
    },
    {
      "cell_type": "markdown",
      "source": [
        "Comporbando la version de Pandas\n",
        "La cadena de la version se alamacena en el arributo  _version _\n",
        "Ejemplo Import pandas as pd\n",
        "print(Pd__version__)\n",
        "      p"
      ],
      "metadata": {
        "id": "j7qyDxy5XzK9"
      }
    },
    {
      "cell_type": "markdown",
      "source": [
        "Ejercicio\n",
        "¿Cual de la siguientes tresapciones es la biblioteca oficial de pandas?\n",
        "1-import P\n",
        "2-import pandas\n",
        "3-import pand"
      ],
      "metadata": {
        "id": "Og9O3z_1Ytqd"
      }
    },
    {
      "cell_type": "markdown",
      "source": [
        "Pandas serie, ¿Que es una serie?\n",
        "Una Serie de Pandas es como una versión más potente de una lista de Python, donde cada valor tiene una etiqueta asignada\n"
      ],
      "metadata": {
        "id": "uHAOCU9FZozm"
      }
    },
    {
      "cell_type": "code",
      "source": [
        "import pandas as pd\n",
        "a=[1,7,2]\n",
        "myvar=pd.Series(a)\n",
        "print(myvar)"
      ],
      "metadata": {
        "colab": {
          "base_uri": "https://localhost:8080/"
        },
        "id": "BwqWFI9PZ96U",
        "outputId": "fd18d3f0-327b-42c2-cbba-7fdbe5bfb021"
      },
      "execution_count": 2,
      "outputs": [
        {
          "output_type": "stream",
          "name": "stdout",
          "text": [
            "0    1\n",
            "1    7\n",
            "2    2\n",
            "dtype: int64\n"
          ]
        }
      ]
    },
    {
      "cell_type": "markdown",
      "source": [
        "Etiquetas\n",
        "Si no se especifica nada mas, los valores se etiquetan con su numero de indice el primer valor tiene el indice cero el segundo valor tiene el indice 1, etc"
      ],
      "metadata": {
        "id": "SuDlabHgbSJd"
      }
    },
    {
      "cell_type": "markdown",
      "source": [
        "Ejemplo: Devuelve el primer valor de la serie\n",
        "print(myvar[0])."
      ],
      "metadata": {
        "id": "oEKQFH25brfV"
      }
    },
    {
      "cell_type": "markdown",
      "source": [
        "Crea etiquetas\n",
        "Donde el argumento index, podemos nombrar nuestras propias etiquetas"
      ],
      "metadata": {
        "id": "5NSgORX_cX02"
      }
    },
    {
      "cell_type": "markdown",
      "source": [
        "Ejemplo:Crea tus propias etiquetas\n",
        "myvar=Pd series(a, index=[¨x¨, ¨y¨, ¨z¨]\n",
        "print(myvar)"
      ],
      "metadata": {
        "id": "TOFL4IkqcqMO"
      }
    },
    {
      "cell_type": "markdown",
      "source": [
        "Cuando hayamos creado etiquetas. Podemos acceder a un elemento haciendo referencia a su etiqueta\n",
        "Ejemplo: devuelve el valor de y\n",
        "print(myvar[¨y¨])"
      ],
      "metadata": {
        "id": "4sM71taQdxa0"
      }
    },
    {
      "cell_type": "markdown",
      "source": [
        "Objetos clave-Valor como serie\n",
        "Tambien podemos utilizar un objeto clave valor\n",
        "como un diccionario al crear una serie\n",
        "Ejemplo:Crea una serie pandas basica apartir de un diccionario\n",
        "import pandas as pd\n",
        "calorias={¨day1¨:420, ¨dia2¨:380, ¨dia3¨:390}\n",
        "myvar=Pd.series(calorias)\n",
        "print(myvar)"
      ],
      "metadata": {
        "id": "h5qa6PycjgFg"
      }
    },
    {
      "cell_type": "markdown",
      "source": [
        "Nota\n",
        "Los claves del diccionario se convierten en las etiquetas\n",
        "para seleccionar elementos del diccionario utilize el index y especifique el elemento que desea incluir en la serie"
      ],
      "metadata": {
        "id": "XSOJL4jsj5z0"
      }
    },
    {
      "cell_type": "markdown",
      "source": [
        "Ejemplo: cre una serie utilizando datos unicamente del dia1 y dia2.\n",
        "myvar=pd.Series (calorias, index = [¨dia1¨, ¨^dia2¨])\n",
        "print(myvar)"
      ],
      "metadata": {
        "id": "oaREPNk3lDu2"
      }
    },
    {
      "cell_type": "markdown",
      "source": [
        "Data Frames- marca de datos los conjuntos de datos en pandas suelen ser tablas multidimencionales llamadas datas frames, la serie es como una columna una data frame es toda la tabla"
      ],
      "metadata": {
        "id": "zQHRRSz5l_BY"
      }
    },
    {
      "cell_type": "markdown",
      "source": [
        "Ejemplo: crea una data frame apartir de dos series"
      ],
      "metadata": {
        "id": "RWxYnkWwmtk4"
      }
    },
    {
      "cell_type": "code",
      "source": [],
      "metadata": {
        "id": "g2orj6i4mjKN"
      },
      "execution_count": null,
      "outputs": []
    }
  ]
}